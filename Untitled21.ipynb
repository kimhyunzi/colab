{
  "nbformat": 4,
  "nbformat_minor": 0,
  "metadata": {
    "colab": {
      "provenance": [],
      "authorship_tag": "ABX9TyPunEJWH+PmCvP7ua4Y3Lrv",
      "include_colab_link": true
    },
    "kernelspec": {
      "name": "python3",
      "display_name": "Python 3"
    },
    "language_info": {
      "name": "python"
    }
  },
  "cells": [
    {
      "cell_type": "markdown",
      "metadata": {
        "id": "view-in-github",
        "colab_type": "text"
      },
      "source": [
        "<a href=\"https://colab.research.google.com/github/kimhyunzi/colab/blob/main/Untitled21.ipynb\" target=\"_parent\"><img src=\"https://colab.research.google.com/assets/colab-badge.svg\" alt=\"Open In Colab\"/></a>"
      ]
    },
    {
      "cell_type": "code",
      "source": [
        "ss = input(\"원본 문자열 => \")\n",
        "\n",
        "for s in ss:  \n",
        "    if s.isupper(): \n",
        "        print(s.lower(), end=\"\")\n",
        "    else:  \n",
        "        print(s.upper(), end=\"\") "
      ],
      "metadata": {
        "colab": {
          "base_uri": "https://localhost:8080/"
        },
        "id": "HK31JrpZm4d4",
        "outputId": "41269b56-4693-4294-c904-7157a905c088"
      },
      "execution_count": 6,
      "outputs": [
        {
          "output_type": "stream",
          "name": "stdout",
          "text": [
            "원본 문자열 => Python\n",
            "pYTHON"
          ]
        }
      ]
    },
    {
      "cell_type": "code",
      "source": [
        "str1 = 'abcde'\n",
        "str1_reverse = ''\n",
        "\n",
        "for char in str1:\n",
        "\tstr1_reverse = char + str1_reverse\n",
        "\n",
        "print(str1_reverse)\t"
      ],
      "metadata": {
        "colab": {
          "base_uri": "https://localhost:8080/"
        },
        "id": "vjhWQkemnJAd",
        "outputId": "8ab62c0c-e17e-43ce-caed-19bde80e4bc9"
      },
      "execution_count": 14,
      "outputs": [
        {
          "output_type": "stream",
          "name": "stdout",
          "text": [
            "edcba\n"
          ]
        }
      ]
    },
    {
      "cell_type": "code",
      "source": [
        "str1 = input(\"원본 문자열 ==> \")\n",
        "str1_reverse = ''\n",
        "\n",
        "for char in str1:\n",
        "\tstr1_reverse = char + str1_reverse\n",
        "\n",
        "print(\"반대 문자열 ==> \" + str1_reverse)\t"
      ],
      "metadata": {
        "colab": {
          "base_uri": "https://localhost:8080/"
        },
        "id": "RRkzYGK6mTiO",
        "outputId": "0eea07fe-47d0-4e46-e706-556e86d94abd"
      },
      "execution_count": 17,
      "outputs": [
        {
          "output_type": "stream",
          "name": "stdout",
          "text": [
            "원본 문자열 ==> 트와이스\n",
            "반대 문자열 ==> 스이와트\n"
          ]
        }
      ]
    }
  ]
}