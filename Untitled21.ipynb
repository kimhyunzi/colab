{
  "nbformat": 4,
  "nbformat_minor": 0,
  "metadata": {
    "colab": {
      "provenance": [],
      "authorship_tag": "ABX9TyO+aXqnIqmqJQ00zu2cGBF7",
      "include_colab_link": true
    },
    "kernelspec": {
      "name": "python3",
      "display_name": "Python 3"
    },
    "language_info": {
      "name": "python"
    }
  },
  "cells": [
    {
      "cell_type": "markdown",
      "metadata": {
        "id": "view-in-github",
        "colab_type": "text"
      },
      "source": [
        "<a href=\"https://colab.research.google.com/github/kimhyunzi/colab/blob/main/Untitled21.ipynb\" target=\"_parent\"><img src=\"https://colab.research.google.com/assets/colab-badge.svg\" alt=\"Open In Colab\"/></a>"
      ]
    },
    {
      "cell_type": "code",
      "source": [
        "ss = input(\"원본 문자열 => \")\n",
        "\n",
        "for s in ss:  \n",
        "    if s.isupper(): \n",
        "        print(s.lower(), end=\"\")\n",
        "    else:  \n",
        "        print(s.upper(), end=\"\") "
      ],
      "metadata": {
        "colab": {
          "base_uri": "https://localhost:8080/"
        },
        "id": "HK31JrpZm4d4",
        "outputId": "41269b56-4693-4294-c904-7157a905c088"
      },
      "execution_count": 6,
      "outputs": [
        {
          "output_type": "stream",
          "name": "stdout",
          "text": [
            "원본 문자열 => Python\n",
            "pYTHON"
          ]
        }
      ]
    },
    {
      "cell_type": "code",
      "source": [
        "str1 = 'abcde'\n",
        "str1_reverse = ''\n",
        "\n",
        "for char in str1:\n",
        "\tstr1_reverse = char + str1_reverse\n",
        "\n",
        "print(str1_reverse)\t"
      ],
      "metadata": {
        "colab": {
          "base_uri": "https://localhost:8080/"
        },
        "id": "vjhWQkemnJAd",
        "outputId": "8ab62c0c-e17e-43ce-caed-19bde80e4bc9"
      },
      "execution_count": 14,
      "outputs": [
        {
          "output_type": "stream",
          "name": "stdout",
          "text": [
            "edcba\n"
          ]
        }
      ]
    },
    {
      "cell_type": "code",
      "source": [
        "str1 = input(\"원본 문자열 ==> \")\n",
        "str1_reverse = ''\n",
        "\n",
        "for char in str1:\n",
        "\tstr1_reverse = char + str1_reverse\n",
        "\n",
        "print(\"반대 문자열 ==> \" + str1_reverse)\t"
      ],
      "metadata": {
        "colab": {
          "base_uri": "https://localhost:8080/"
        },
        "id": "RRkzYGK6mTiO",
        "outputId": "0eea07fe-47d0-4e46-e706-556e86d94abd"
      },
      "execution_count": 17,
      "outputs": [
        {
          "output_type": "stream",
          "name": "stdout",
          "text": [
            "원본 문자열 ==> 트와이스\n",
            "반대 문자열 ==> 스이와트\n"
          ]
        }
      ]
    },
    {
      "cell_type": "code",
      "source": [
        "ff = input(\"첫 번째 문자열 ==> \")\n",
        "rr = input(\"두 번째 문자열 ==> \")\n",
        "a = len(str(ff))-len(str(rr))\n",
        "print(\"두 문자열의 길이 차이는\", a, \"입니다.\")"
      ],
      "metadata": {
        "colab": {
          "base_uri": "https://localhost:8080/"
        },
        "id": "O0cI1NlixRMv",
        "outputId": "ee3cc516-43b2-48ff-94c9-4ca9a1a096fd"
      },
      "execution_count": 34,
      "outputs": [
        {
          "output_type": "stream",
          "name": "stdout",
          "text": [
            "첫 번째 문자열 ==> 난생처음 파이썬\n",
            "두 번째 문자열 ==> First Python\n",
            "두 문자열의 길이 차이는 -4 입니다.\n"
          ]
        }
      ]
    }
  ]
}