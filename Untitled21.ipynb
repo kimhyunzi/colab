{
  "nbformat": 4,
  "nbformat_minor": 0,
  "metadata": {
    "colab": {
      "provenance": [],
      "authorship_tag": "ABX9TyO3ElYroeoje9n9aaMnqa54",
      "include_colab_link": true
    },
    "kernelspec": {
      "name": "python3",
      "display_name": "Python 3"
    },
    "language_info": {
      "name": "python"
    }
  },
  "cells": [
    {
      "cell_type": "markdown",
      "metadata": {
        "id": "view-in-github",
        "colab_type": "text"
      },
      "source": [
        "<a href=\"https://colab.research.google.com/github/kimhyunzi/colab/blob/main/Untitled21.ipynb\" target=\"_parent\"><img src=\"https://colab.research.google.com/assets/colab-badge.svg\" alt=\"Open In Colab\"/></a>"
      ]
    },
    {
      "cell_type": "code",
      "source": [
        "ss = input(\"원본 문자열 => \")\n",
        "\n",
        "for s in ss:  \n",
        "    if s.isupper(): \n",
        "        print(s.lower(), end=\"\")\n",
        "    else:  \n",
        "        print(s.upper(), end=\"\") "
      ],
      "metadata": {
        "colab": {
          "base_uri": "https://localhost:8080/"
        },
        "id": "HK31JrpZm4d4",
        "outputId": "41269b56-4693-4294-c904-7157a905c088"
      },
      "execution_count": 6,
      "outputs": [
        {
          "output_type": "stream",
          "name": "stdout",
          "text": [
            "원본 문자열 => Python\n",
            "pYTHON"
          ]
        }
      ]
    },
    {
      "cell_type": "code",
      "source": [
        "str1 = 'abcde'\n",
        "str1_reverse = ''\n",
        "\n",
        "for char in str1:\n",
        "\tstr1_reverse = char + str1_reverse\n",
        "\n",
        "print(str1_reverse)\t"
      ],
      "metadata": {
        "colab": {
          "base_uri": "https://localhost:8080/"
        },
        "id": "vjhWQkemnJAd",
        "outputId": "8ab62c0c-e17e-43ce-caed-19bde80e4bc9"
      },
      "execution_count": 14,
      "outputs": [
        {
          "output_type": "stream",
          "name": "stdout",
          "text": [
            "edcba\n"
          ]
        }
      ]
    },
    {
      "cell_type": "code",
      "source": [
        "str1 = input(\"원본 문자열 ==> \")\n",
        "str1_reverse = ''\n",
        "\n",
        "for char in str1:\n",
        "\tstr1_reverse = char + str1_reverse\n",
        "\n",
        "print(\"반대 문자열 ==> \" + str1_reverse)\t"
      ],
      "metadata": {
        "colab": {
          "base_uri": "https://localhost:8080/"
        },
        "id": "RRkzYGK6mTiO",
        "outputId": "0eea07fe-47d0-4e46-e706-556e86d94abd"
      },
      "execution_count": 17,
      "outputs": [
        {
          "output_type": "stream",
          "name": "stdout",
          "text": [
            "원본 문자열 ==> 트와이스\n",
            "반대 문자열 ==> 스이와트\n"
          ]
        }
      ]
    },
    {
      "cell_type": "code",
      "source": [
        "ff = input(\"첫 번째 문자열 ==> \")\n",
        "rr = input(\"두 번째 문자열 ==> \")\n",
        "a = len(str(ff))-len(str(rr))\n",
        "print(\"두 문자열의 길이 차이는\", a, \"입니다.\")"
      ],
      "metadata": {
        "colab": {
          "base_uri": "https://localhost:8080/"
        },
        "id": "O0cI1NlixRMv",
        "outputId": "ee3cc516-43b2-48ff-94c9-4ca9a1a096fd"
      },
      "execution_count": 34,
      "outputs": [
        {
          "output_type": "stream",
          "name": "stdout",
          "text": [
            "첫 번째 문자열 ==> 난생처음 파이썬\n",
            "두 번째 문자열 ==> First Python\n",
            "두 문자열의 길이 차이는 -4 입니다.\n"
          ]
        }
      ]
    },
    {
      "cell_type": "code",
      "source": [
        "    pound = eval(input(\"파운드 값을 입력하세요 : \"))\n",
        "    kg = pound * 2.204623\n",
        "    \n",
        "    print(pound, \"파운드는\", kg, \"킬로그램입니다.\")\n",
        "    \n",
        "    kg = eval(input(\"kg 값을 입력하세요 : \"))\n",
        "    pound = kg * 0.453592  \n",
        "    \n",
        "    print(kg, \"킬로그램은\", pound, \"파운드입니다.\")"
      ],
      "metadata": {
        "colab": {
          "base_uri": "https://localhost:8080/"
        },
        "id": "klXXe6ts1S4y",
        "outputId": "03450fe8-df39-4a85-b334-76aa6f035e80"
      },
      "execution_count": 37,
      "outputs": [
        {
          "output_type": "stream",
          "name": "stdout",
          "text": [
            "파운드 값을 입력하세요 : 15\n",
            "15 파운드는 33.069345000000006 킬로그램입니다.\n",
            "kg 값을 입력하세요 : 15\n",
            "15 킬로그램은 6.8038799999999995 파운드입니다.\n"
          ]
        }
      ]
    },
    {
      "cell_type": "code",
      "source": [
        "T = int(input(\"파운드(lb)를 입력하세요 : \"))\n",
        "\n",
        "print(\"%0.0f kg => %0.5f lb\" % (T, 2.2046 * T))"
      ],
      "metadata": {
        "colab": {
          "base_uri": "https://localhost:8080/"
        },
        "id": "IiIIHSAY2UKZ",
        "outputId": "85136d09-7135-4c2d-a1c2-f51f8c446171"
      },
      "execution_count": 45,
      "outputs": [
        {
          "output_type": "stream",
          "name": "stdout",
          "text": [
            "파운드(lb)를 입력하세요 : 15\n",
            "15.00000 kg => 33.06900 lb\n"
          ]
        }
      ]
    },
    {
      "cell_type": "code",
      "source": [
        "p = int(input(\"파운드(lb)를 입력하세요 : \"))\n",
        "k = p * 0.453592\n",
        "kr = format(k, \".5f\")\n",
        "print(p, \"파운드(lb)는 \", kr, \"킬로그램(kb)입니다\")\n",
        "\n",
        "s = int(input(\"킬로그램(kg)를 입력하세요 : \"))\n",
        "t = s * 2.204623\n",
        "st = format(t, \".5f\")\n",
        "print(s, \"킬로그램(kg)은 \", st, \"파운드(lb)입니다\")"
      ],
      "metadata": {
        "colab": {
          "base_uri": "https://localhost:8080/"
        },
        "id": "3oc_rT6-3J5J",
        "outputId": "f696cebc-f467-45fa-aec9-3b2738a32dca"
      },
      "execution_count": 55,
      "outputs": [
        {
          "output_type": "stream",
          "name": "stdout",
          "text": [
            "파운드(lb)를 입력하세요 : 15\n",
            "15 파운드(lb)는  6.80388 킬로그램(kb)입니다\n",
            "킬로그램(kg)를 입력하세요 : 15\n",
            "15 킬로그램(kg)은  33.06935 파운드(lb)입니다\n"
          ]
        }
      ]
    },
    {
      "cell_type": "code",
      "source": [],
      "metadata": {
        "id": "TG2d02kC2UOx"
      },
      "execution_count": null,
      "outputs": []
    }
  ]
}