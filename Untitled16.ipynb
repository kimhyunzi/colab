{
  "nbformat": 4,
  "nbformat_minor": 0,
  "metadata": {
    "colab": {
      "provenance": [],
      "authorship_tag": "ABX9TyMdfOpVMNq1qWF5B2aeTCfF",
      "include_colab_link": true
    },
    "kernelspec": {
      "name": "python3",
      "display_name": "Python 3"
    },
    "language_info": {
      "name": "python"
    }
  },
  "cells": [
    {
      "cell_type": "markdown",
      "metadata": {
        "id": "view-in-github",
        "colab_type": "text"
      },
      "source": [
        "<a href=\"https://colab.research.google.com/github/kimhyunzi/colab/blob/main/Untitled16.ipynb\" target=\"_parent\"><img src=\"https://colab.research.google.com/assets/colab-badge.svg\" alt=\"Open In Colab\"/></a>"
      ]
    },
    {
      "cell_type": "code",
      "execution_count": 6,
      "metadata": {
        "colab": {
          "base_uri": "https://localhost:8080/"
        },
        "id": "_0dP5_DkWDnU",
        "outputId": "279b167d-8500-4789-b1da-75ae7d962b05"
      },
      "outputs": [
        {
          "output_type": "stream",
          "name": "stdout",
          "text": [
            "2 X 1 * 2\n",
            "\n",
            "2 X 2 * 4\n",
            "\n",
            "2 X 3 * 6\n",
            "\n",
            "2 X 4 * 8\n",
            "\n",
            "2 X 5 * 10\n",
            "\n",
            "2 X 6 * 12\n",
            "\n",
            "2 X 7 * 14\n",
            "\n",
            "2 X 8 * 16\n",
            "\n",
            "2 X 9 * 18\n",
            "\n",
            "3 X 1 * 3\n",
            "\n",
            "3 X 2 * 6\n",
            "\n",
            "3 X 3 * 9\n",
            "\n",
            "3 X 4 * 12\n",
            "\n",
            "3 X 5 * 15\n",
            "\n",
            "3 X 6 * 18\n",
            "\n",
            "3 X 7 * 21\n",
            "\n",
            "3 X 8 * 24\n",
            "\n",
            "3 X 9 * 27\n",
            "\n",
            "4 X 1 * 4\n",
            "\n",
            "4 X 2 * 8\n",
            "\n",
            "4 X 3 * 12\n",
            "\n",
            "4 X 4 * 16\n",
            "\n",
            "4 X 5 * 20\n",
            "\n",
            "4 X 6 * 24\n",
            "\n",
            "4 X 7 * 28\n",
            "\n",
            "4 X 8 * 32\n",
            "\n",
            "4 X 9 * 36\n",
            "\n",
            "5 X 1 * 5\n",
            "\n",
            "5 X 2 * 10\n",
            "\n",
            "5 X 3 * 15\n",
            "\n",
            "5 X 4 * 20\n",
            "\n",
            "5 X 5 * 25\n",
            "\n",
            "5 X 6 * 30\n",
            "\n",
            "5 X 7 * 35\n",
            "\n",
            "5 X 8 * 40\n",
            "\n",
            "5 X 9 * 45\n",
            "\n",
            "6 X 1 * 6\n",
            "\n",
            "6 X 2 * 12\n",
            "\n",
            "6 X 3 * 18\n",
            "\n",
            "6 X 4 * 24\n",
            "\n",
            "6 X 5 * 30\n",
            "\n",
            "6 X 6 * 36\n",
            "\n",
            "6 X 7 * 42\n",
            "\n",
            "6 X 8 * 48\n",
            "\n",
            "6 X 9 * 54\n",
            "\n",
            "7 X 1 * 7\n",
            "\n",
            "7 X 2 * 14\n",
            "\n",
            "7 X 3 * 21\n",
            "\n",
            "7 X 4 * 28\n",
            "\n",
            "7 X 5 * 35\n",
            "\n",
            "7 X 6 * 42\n",
            "\n",
            "7 X 7 * 49\n",
            "\n",
            "7 X 8 * 56\n",
            "\n",
            "7 X 9 * 63\n",
            "\n",
            "8 X 1 * 8\n",
            "\n",
            "8 X 2 * 16\n",
            "\n",
            "8 X 3 * 24\n",
            "\n",
            "8 X 4 * 32\n",
            "\n",
            "8 X 5 * 40\n",
            "\n",
            "8 X 6 * 48\n",
            "\n",
            "8 X 7 * 56\n",
            "\n",
            "8 X 8 * 64\n",
            "\n",
            "8 X 9 * 72\n",
            "\n",
            "9 X 1 * 9\n",
            "\n",
            "9 X 2 * 18\n",
            "\n",
            "9 X 3 * 27\n",
            "\n",
            "9 X 4 * 36\n",
            "\n",
            "9 X 5 * 45\n",
            "\n",
            "9 X 6 * 54\n",
            "\n",
            "9 X 7 * 63\n",
            "\n",
            "9 X 8 * 72\n",
            "\n",
            "9 X 9 * 81\n",
            "\n"
          ]
        }
      ],
      "source": [
        "i=0\n",
        "j=0\n",
        "\n",
        "for i in range (2, 10) :\n",
        "  for j in range(1,10) :\n",
        "    print(i,\"X\", j, \"*\",i*j)\n",
        "    print(\"\")"
      ]
    },
    {
      "cell_type": "code",
      "source": [
        "for i in range(0, 3, 1) :\n",
        "  print(i, \": 난생처음 파이썬은 재미있씁니다. ^^\")"
      ],
      "metadata": {
        "colab": {
          "base_uri": "https://localhost:8080/"
        },
        "id": "Dn6xwlUtWuMa",
        "outputId": "442937a4-2908-48d6-ac9c-27a32a19f506"
      },
      "execution_count": 7,
      "outputs": [
        {
          "output_type": "stream",
          "name": "stdout",
          "text": [
            "9 : 난생처음 파이썬은 재미있씁니다. ^^\n"
          ]
        }
      ]
    },
    {
      "cell_type": "code",
      "source": [
        "i=0\n",
        "while (i < 3) :\n",
        "  print(i, \"난생 처음 파이썬은 재미있습니다.\")\n",
        "  i = i + 1"
      ],
      "metadata": {
        "colab": {
          "base_uri": "https://localhost:8080/"
        },
        "id": "PPjE5Lk1W4Hq",
        "outputId": "c225caf0-589d-4d73-aecf-2ba65b29e89c"
      },
      "execution_count": 8,
      "outputs": [
        {
          "output_type": "stream",
          "name": "stdout",
          "text": [
            "0 난생 처음 파이썬은 재미있습니다.\n",
            "1 난생 처음 파이썬은 재미있습니다.\n",
            "2 난생 처음 파이썬은 재미있습니다.\n"
          ]
        }
      ]
    },
    {
      "cell_type": "code",
      "source": [
        "hap = 0\n",
        "num1, num2 = 0, 0\n",
        "\n",
        "while True :\n",
        "  num1 = int(input(\"숫자1 ==> \"))\n",
        "  num2 = int(input(\"숫자2 ==> \"))\n",
        "\n",
        "  hap = num1 + num2\n",
        "  print(num1, \"+\", num2, \"=\", hap)\n"
      ],
      "metadata": {
        "colab": {
          "base_uri": "https://localhost:8080/"
        },
        "id": "Wf73SY_HW9_D",
        "outputId": "0467a267-4d88-47b8-deab-6331f617e3d7"
      },
      "execution_count": null,
      "outputs": [
        {
          "metadata": {
            "tags": null
          },
          "name": "stdout",
          "output_type": "stream",
          "text": [
            "346 + 754 = 1100\n"
          ]
        }
      ]
    },
    {
      "cell_type": "code",
      "source": [],
      "metadata": {
        "id": "UAx9TQZ2Yr7J"
      },
      "execution_count": null,
      "outputs": []
    },
    {
      "cell_type": "code",
      "source": [
        "import random\n",
        "r1 = random.randint(1,6)\n",
        "r2 = random.randint(1,6)\n",
        "r3 = random.randint(1,6)\n",
        "print(r1,r2,r3)\n",
        "count = count + 1\n",
        "if r1 == r2 == r3 :\n",
        "  break \n",
        "print(\"3개의 주사위는 모두 \", r1. \"입니다.\")\n",
        "print(\"같은 숫자가 나오기까지 \", count. \"번 던졌습니다.\")"
      ],
      "metadata": {
        "id": "R0XbKxa5YsAq"
      },
      "execution_count": null,
      "outputs": []
    },
    {
      "cell_type": "code",
      "source": [
        "import random\n",
        "\n",
        "computer, user = 0,0\n",
        "\n",
        "for i in range(1, 11) :\n",
        "  computer = random.randint (1,5)\n",
        "  print(\"게임\", i, \"회 : \", end='')\n",
        "  user = int(input(\"컴퓨터가 생각한 숫자는 ? \"))\n",
        "\n",
        "  if computer == user :\n",
        "    print(\"맞혔네요. ㅊㅋ합니다!!\")\n",
        "    break\n",
        "  else : \n",
        "    print(\"아까워요. \",computer, \"였는데요. 다시 해보세요 ㅠㅠ\")\n",
        "    continue\n",
        "  print(\"게임을 마칩니다.\")"
      ],
      "metadata": {
        "id": "tpUaFYuFeT0r"
      },
      "execution_count": null,
      "outputs": []
    }
  ]
}