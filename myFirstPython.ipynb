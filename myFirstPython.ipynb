{
  "nbformat": 4,
  "nbformat_minor": 0,
  "metadata": {
    "colab": {
      "name": "myFirstPython.ipynb",
      "provenance": [],
      "authorship_tag": "ABX9TyOQvf2ATY5X6otxRStH9D31",
      "include_colab_link": true
    },
    "kernelspec": {
      "name": "python3",
      "display_name": "Python 3"
    },
    "language_info": {
      "name": "python"
    }
  },
  "cells": [
    {
      "cell_type": "markdown",
      "metadata": {
        "id": "view-in-github",
        "colab_type": "text"
      },
      "source": [
        "<a href=\"https://colab.research.google.com/github/kimhyunzi/colab/blob/main/myFirstPython.ipynb\" target=\"_parent\"><img src=\"https://colab.research.google.com/assets/colab-badge.svg\" alt=\"Open In Colab\"/></a>"
      ]
    },
    {
      "cell_type": "code",
      "execution_count": 2,
      "metadata": {
        "colab": {
          "base_uri": "https://localhost:8080/"
        },
        "id": "Tx92x-UgOxN2",
        "outputId": "077ee798-0e8c-4f85-8aa1-583ae6fdce4c"
      },
      "outputs": [
        {
          "output_type": "stream",
          "name": "stdout",
          "text": [
            "안녕~ 파이썬!!\n"
          ]
        }
      ],
      "source": [
        "print(\"안녕~ 파이썬!!\")"
      ]
    },
    {
      "cell_type": "code",
      "source": [
        "print(\"컴퓨터과 3학년 2반 7번 김현지\")"
      ],
      "metadata": {
        "colab": {
          "base_uri": "https://localhost:8080/"
        },
        "id": "X2oKG9kyPct6",
        "outputId": "7bf734ff-850d-45b2-98b6-2051196d17db"
      },
      "execution_count": 3,
      "outputs": [
        {
          "output_type": "stream",
          "name": "stdout",
          "text": [
            "컴퓨터과 3학년 2반 7번 김현지\n"
          ]
        }
      ]
    },
    {
      "cell_type": "markdown",
      "source": [
        "나의 첫 파이썬 프로그래밍"
      ],
      "metadata": {
        "id": "QB1VIVcAPDs6"
      }
    }
  ]
}