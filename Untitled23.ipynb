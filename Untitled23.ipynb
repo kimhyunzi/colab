{
  "nbformat": 4,
  "nbformat_minor": 0,
  "metadata": {
    "colab": {
      "provenance": [],
      "authorship_tag": "ABX9TyMEViK+Pz9NsgbC11HsDpFl",
      "include_colab_link": true
    },
    "kernelspec": {
      "name": "python3",
      "display_name": "Python 3"
    },
    "language_info": {
      "name": "python"
    }
  },
  "cells": [
    {
      "cell_type": "markdown",
      "metadata": {
        "id": "view-in-github",
        "colab_type": "text"
      },
      "source": [
        "<a href=\"https://colab.research.google.com/github/kimhyunzi/colab/blob/main/Untitled23.ipynb\" target=\"_parent\"><img src=\"https://colab.research.google.com/assets/colab-badge.svg\" alt=\"Open In Colab\"/></a>"
      ]
    },
    {
      "cell_type": "code",
      "execution_count": 3,
      "metadata": {
        "colab": {
          "base_uri": "https://localhost:8080/"
        },
        "id": "z7q7Pchpbc75",
        "outputId": "f431692f-c222-4a04-b173-4a313db460e0"
      },
      "outputs": [
        {
          "output_type": "stream",
          "name": "stdout",
          "text": [
            "숫자를 입력 ==> 1773\n",
            "홀수입니다.\n"
          ]
        }
      ],
      "source": [
        "x=int(input(\"숫자를 입력 ==> \"))\n",
        "\n",
        "if(x%2==1):\n",
        "    print(\"홀수입니다.\")\n",
        "else:\n",
        "    print(\"짝수입니다.\")"
      ]
    },
    {
      "cell_type": "code",
      "source": [
        "num = int(input(\"숫자를 입력 ==> \"))\n",
        "\n",
        "if num > 100 :\n",
        "  if num < 1000 :\n",
        "    print(\"100보다 크고 1000보다 작군요.\")\n",
        "  \n",
        "  else :\n",
        "    print(\"100보다 크다\")\n",
        "else :\n",
        "  print(\"100보다 작다.\")"
      ],
      "metadata": {
        "colab": {
          "base_uri": "https://localhost:8080/"
        },
        "id": "BBZwDb0EdcRS",
        "outputId": "c907fcb3-6e52-4216-b8eb-e20e1fad1400"
      },
      "execution_count": 12,
      "outputs": [
        {
          "output_type": "stream",
          "name": "stdout",
          "text": [
            "숫자를 입력 ==> 150\n",
            "100보다 크고 1000보다 작군요.\n"
          ]
        }
      ]
    },
    {
      "cell_type": "code",
      "source": [],
      "metadata": {
        "id": "hv7ic30ceIRY"
      },
      "execution_count": null,
      "outputs": []
    }
  ]
}