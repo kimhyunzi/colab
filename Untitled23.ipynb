{
  "nbformat": 4,
  "nbformat_minor": 0,
  "metadata": {
    "colab": {
      "provenance": [],
      "authorship_tag": "ABX9TyPQqquuPbDjLySmk6Tde5Zf",
      "include_colab_link": true
    },
    "kernelspec": {
      "name": "python3",
      "display_name": "Python 3"
    },
    "language_info": {
      "name": "python"
    }
  },
  "cells": [
    {
      "cell_type": "markdown",
      "metadata": {
        "id": "view-in-github",
        "colab_type": "text"
      },
      "source": [
        "<a href=\"https://colab.research.google.com/github/kimhyunzi/colab/blob/main/Untitled23.ipynb\" target=\"_parent\"><img src=\"https://colab.research.google.com/assets/colab-badge.svg\" alt=\"Open In Colab\"/></a>"
      ]
    },
    {
      "cell_type": "code",
      "execution_count": 3,
      "metadata": {
        "colab": {
          "base_uri": "https://localhost:8080/"
        },
        "id": "z7q7Pchpbc75",
        "outputId": "f431692f-c222-4a04-b173-4a313db460e0"
      },
      "outputs": [
        {
          "output_type": "stream",
          "name": "stdout",
          "text": [
            "숫자를 입력 ==> 1773\n",
            "홀수입니다.\n"
          ]
        }
      ],
      "source": [
        "x=int(input(\"숫자를 입력 ==> \"))\n",
        "\n",
        "if(x%2==1):\n",
        "    print(\"홀수입니다.\")\n",
        "else:\n",
        "    print(\"짝수입니다.\")"
      ]
    },
    {
      "cell_type": "code",
      "source": [
        "num = int(input(\"숫자를 입력 ==> \"))\n",
        "\n",
        "if num > 100 :\n",
        "  if num < 1000 :\n",
        "    print(\"100보다 크고 1000보다 작군요.\")\n",
        "  \n",
        "  else :\n",
        "    print(\"100보다 크다\")\n",
        "else :\n",
        "  print(\"100보다 작다.\")"
      ],
      "metadata": {
        "colab": {
          "base_uri": "https://localhost:8080/"
        },
        "id": "BBZwDb0EdcRS",
        "outputId": "c907fcb3-6e52-4216-b8eb-e20e1fad1400"
      },
      "execution_count": 12,
      "outputs": [
        {
          "output_type": "stream",
          "name": "stdout",
          "text": [
            "숫자를 입력 ==> 150\n",
            "100보다 크고 1000보다 작군요.\n"
          ]
        }
      ]
    },
    {
      "cell_type": "code",
      "source": [
        "score = int(input(\"숫자를 입력 ==> \"))\n",
        "\n",
        "if score >= 90:\n",
        "        print(\"A 학점 입니다\")\n",
        "elif score >= 80:\n",
        "        print(\"B 학점 입니다\")\n",
        "elif score >= 70:\n",
        "        print(\"C 학점 입니다\")\n",
        "elif score >= 60:\n",
        "        print(\"D 학점 입니다\")\n",
        "else:\n",
        "        print(\"F 학점 입니다\")\n"
      ],
      "metadata": {
        "colab": {
          "base_uri": "https://localhost:8080/"
        },
        "id": "hv7ic30ceIRY",
        "outputId": "f3a564df-d01b-4b53-97c1-d1eccfea6db5"
      },
      "execution_count": 20,
      "outputs": [
        {
          "output_type": "stream",
          "name": "stdout",
          "text": [
            "숫자를 입력 ==> 83\n",
            "B 학점 입니다\n"
          ]
        }
      ]
    },
    {
      "cell_type": "code",
      "source": [
        "import random \n",
        "\n",
        "option = ['가위', '바위', '보'] \n",
        "computer = random.randint(0, 2) \n",
        "computer_value = option[computer]\n",
        "\n",
        "\n",
        "def get_user_value():\n",
        "    while True:\n",
        "        user_value = input('가위, 바위, 보 : ')\n",
        "        if user_value not in option:\n",
        "            print(\"다시 입력해주세요.\")\n",
        "        else:\n",
        "            break\n",
        "    return user_value\n",
        "\n",
        "\n",
        "user_value = get_user_value()\n",
        "\n",
        "print(f'플레이어는 {user_value}를 선택, 컴퓨터는 {computer_value}를 선택했습니다')\n",
        "\n",
        "if computer_value == user_value:\n",
        "    print('비겼습니다')\n",
        "elif user_value == '가위':\n",
        "    if computer_value == '바위':\n",
        "        print('졌습니다')\n",
        "\n",
        "    else:\n",
        "        print('이겼습니다')\n",
        "\n",
        "elif user_value == '바위':\n",
        "    if computer_value == '보':\n",
        "        print('졌습니다')\n",
        "\n",
        "    else:\n",
        "        print('이겼습니다')\n",
        "\n",
        "elif user_value == '보':\n",
        "    if computer_value == '가위':\n",
        "        print('졌습니다')\n",
        "\n",
        "    else:\n",
        "        print('이겼습니다')"
      ],
      "metadata": {
        "colab": {
          "base_uri": "https://localhost:8080/"
        },
        "id": "8U4qZdPXhscY",
        "outputId": "7e2c9f2a-4757-4aef-f7ee-44850236bda7"
      },
      "execution_count": 22,
      "outputs": [
        {
          "output_type": "stream",
          "name": "stdout",
          "text": [
            "가위, 바위, 보 : 보\n",
            "플레이어는 보를 선택, 컴퓨터는 보를 선택했습니다\n",
            "비겼습니다\n"
          ]
        }
      ]
    }
  ]
}