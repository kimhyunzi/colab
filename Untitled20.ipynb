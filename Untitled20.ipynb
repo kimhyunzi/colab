{
  "nbformat": 4,
  "nbformat_minor": 0,
  "metadata": {
    "colab": {
      "provenance": [],
      "authorship_tag": "ABX9TyOrY5TJeSXYS5UdNIzxInyV",
      "include_colab_link": true
    },
    "kernelspec": {
      "name": "python3",
      "display_name": "Python 3"
    },
    "language_info": {
      "name": "python"
    }
  },
  "cells": [
    {
      "cell_type": "markdown",
      "metadata": {
        "id": "view-in-github",
        "colab_type": "text"
      },
      "source": [
        "<a href=\"https://colab.research.google.com/github/kimhyunzi/colab/blob/main/Untitled20.ipynb\" target=\"_parent\"><img src=\"https://colab.research.google.com/assets/colab-badge.svg\" alt=\"Open In Colab\"/></a>"
      ]
    },
    {
      "cell_type": "code",
      "execution_count": 1,
      "metadata": {
        "colab": {
          "base_uri": "https://localhost:8080/"
        },
        "id": "GBKEiY_4Vluq",
        "outputId": "21be54e0-623b-4a86-a37c-980fdd1eacb2"
      },
      "outputs": [
        {
          "output_type": "stream",
          "name": "stdout",
          "text": [
            " 숫자 : 10\n",
            " 숫자 :20\n",
            " 숫자 :30\n",
            " 숫자 :40\n",
            "합계 ==>  100\n"
          ]
        }
      ],
      "source": [
        "numList = []\n",
        "for i in range(0, 4) :\n",
        "  numList.append(0)\n",
        "hap = 0\n",
        "\n",
        "for i in range(0, 4) :\n",
        "  numList[i] = int(input(\" 숫자 :\"))\n",
        "\n",
        "hap = numList[0] + numList[1] + numList[2] + numList[3]\n",
        "\n",
        "print(\"합계 ==> \", hap)"
      ]
    },
    {
      "cell_type": "code",
      "source": [
        "print(\"홍길동 선수 경기 끝났습니다~~ 짝짝짝\")\n",
        "numList = []\n",
        "for i in range(0, 4) :\n",
        "  numList.append(0)\n",
        "hap = 0\n",
        "\n",
        "for i in range(0, 4) :\n",
        "  numList[i] = int(input(\" 숫자 :\"))\n",
        "\n",
        "hap = numList[0] + numList[1] + numList[2] + numList[3]\n",
        "\n",
        "print(\"합계 ==> \", hap)"
      ],
      "metadata": {
        "id": "ShpI-IlsWQT8"
      },
      "execution_count": null,
      "outputs": []
    },
    {
      "cell_type": "code",
      "source": [
        "score = [0,0,0,0,0]\n",
        "sum, avg = 0,0\n",
        "print(\"김안공 선수 경기가 끝났습니다~~ 짝짝짝\")\n",
        "\n",
        "for i in range(0,5) :\n",
        "  score[i] = int(input(\"평가 점수 ==> \"))\n",
        "  sum = sum + score[i]\n",
        "avg = sum / 5\n",
        "print(\"심사위원의 평균 점수 ==> \", avg)"
      ],
      "metadata": {
        "colab": {
          "base_uri": "https://localhost:8080/"
        },
        "id": "7JZsi9SwekkS",
        "outputId": "8beaf454-89db-423f-c68f-48a92b5fe53f"
      },
      "execution_count": 2,
      "outputs": [
        {
          "output_type": "stream",
          "name": "stdout",
          "text": [
            "김안공 선수 경기가 끝났습니다~~ 짝짝짝\n",
            "평가 점수 ==> 2356\n",
            "평가 점수 ==> 21\n",
            "평가 점수 ==> 53\n",
            "평가 점수 ==> 724\n",
            "평가 점수 ==> 412\n",
            "심사위원의 평균 점수 ==>  713.2\n"
          ]
        }
      ]
    },
    {
      "cell_type": "code",
      "source": [
        "import random\n",
        "score = []\n",
        "for i in range(0,10000) :\n",
        "  rock_paper_scissors = [\"가위\", \"바위\", \"보\"]\n",
        "  comA = random.choice(rock_paper_scissors)\n",
        "  comB = random.choice(rock_paper_scissors)\n",
        "  if comA == comB :\n",
        "    score.append('비김면')\n",
        "  elif comA == \"가위\" and comB = \"보자기\"\n",
        "\n",
        "print(comA, comB)\n",
        "elif"
      ],
      "metadata": {
        "colab": {
          "base_uri": "https://localhost:8080/"
        },
        "id": "aeg5ykMlfXX5",
        "outputId": "61257b86-a24a-4eb5-b240-20502b16bd6e"
      },
      "execution_count": 3,
      "outputs": [
        {
          "output_type": "stream",
          "name": "stdout",
          "text": [
            "바위 보\n"
          ]
        }
      ]
    },
    {
      "cell_type": "code",
      "source": [],
      "metadata": {
        "id": "tMnIsLazhnxc"
      },
      "execution_count": null,
      "outputs": []
    }
  ]
}