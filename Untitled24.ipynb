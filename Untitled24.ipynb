{
  "nbformat": 4,
  "nbformat_minor": 0,
  "metadata": {
    "colab": {
      "provenance": [],
      "authorship_tag": "ABX9TyMKlB/2c3s9hAAFy8iV2S4f",
      "include_colab_link": true
    },
    "kernelspec": {
      "name": "python3",
      "display_name": "Python 3"
    },
    "language_info": {
      "name": "python"
    }
  },
  "cells": [
    {
      "cell_type": "markdown",
      "metadata": {
        "id": "view-in-github",
        "colab_type": "text"
      },
      "source": [
        "<a href=\"https://colab.research.google.com/github/kimhyunzi/colab/blob/main/Untitled24.ipynb\" target=\"_parent\"><img src=\"https://colab.research.google.com/assets/colab-badge.svg\" alt=\"Open In Colab\"/></a>"
      ]
    },
    {
      "cell_type": "code",
      "execution_count": 2,
      "metadata": {
        "colab": {
          "base_uri": "https://localhost:8080/"
        },
        "id": "SF8GLCKdeDBd",
        "outputId": "f3505278-75fb-4a8d-a0b6-78d4708e713f"
      },
      "outputs": [
        {
          "output_type": "stream",
          "name": "stdout",
          "text": [
            "2 x 1 = 2\n",
            "2 x 2 = 4\n",
            "2 x 3 = 6\n",
            "2 x 4 = 8\n",
            "2 x 5 = 10\n",
            "2 x 6 = 12\n",
            "2 x 7 = 14\n",
            "2 x 8 = 16\n",
            "2 x 9 = 18\n",
            "3 x 1 = 3\n",
            "3 x 2 = 6\n",
            "3 x 3 = 9\n",
            "3 x 4 = 12\n",
            "3 x 5 = 15\n",
            "3 x 6 = 18\n",
            "3 x 7 = 21\n",
            "3 x 8 = 24\n",
            "3 x 9 = 27\n",
            "4 x 1 = 4\n",
            "4 x 2 = 8\n",
            "4 x 3 = 12\n",
            "4 x 4 = 16\n",
            "4 x 5 = 20\n",
            "4 x 6 = 24\n",
            "4 x 7 = 28\n",
            "4 x 8 = 32\n",
            "4 x 9 = 36\n",
            "5 x 1 = 5\n",
            "5 x 2 = 10\n",
            "5 x 3 = 15\n",
            "5 x 4 = 20\n",
            "5 x 5 = 25\n",
            "5 x 6 = 30\n",
            "5 x 7 = 35\n",
            "5 x 8 = 40\n",
            "5 x 9 = 45\n",
            "6 x 1 = 6\n",
            "6 x 2 = 12\n",
            "6 x 3 = 18\n",
            "6 x 4 = 24\n",
            "6 x 5 = 30\n",
            "6 x 6 = 36\n",
            "6 x 7 = 42\n",
            "6 x 8 = 48\n",
            "6 x 9 = 54\n",
            "7 x 1 = 7\n",
            "7 x 2 = 14\n",
            "7 x 3 = 21\n",
            "7 x 4 = 28\n",
            "7 x 5 = 35\n",
            "7 x 6 = 42\n",
            "7 x 7 = 49\n",
            "7 x 8 = 56\n",
            "7 x 9 = 63\n",
            "8 x 1 = 8\n",
            "8 x 2 = 16\n",
            "8 x 3 = 24\n",
            "8 x 4 = 32\n",
            "8 x 5 = 40\n",
            "8 x 6 = 48\n",
            "8 x 7 = 56\n",
            "8 x 8 = 64\n",
            "8 x 9 = 72\n",
            "9 x 1 = 9\n",
            "9 x 2 = 18\n",
            "9 x 3 = 27\n",
            "9 x 4 = 36\n",
            "9 x 5 = 45\n",
            "9 x 6 = 54\n",
            "9 x 7 = 63\n",
            "9 x 8 = 72\n",
            "9 x 9 = 81\n"
          ]
        }
      ],
      "source": [
        "for dan in range(2, 10):  \n",
        "    for i in range(1, 10): \n",
        "        print(f'{dan} x {i} = {dan * i}')"
      ]
    },
    {
      "cell_type": "code",
      "source": [
        "hap, i=0,0\n",
        "\n",
        "for i in range(1,101) :\n",
        "    if i  % 4 ==0 :\n",
        "        continue\n",
        "\n",
        "    hap+=i\n",
        "\n",
        "\n",
        "print(\"1~100의 합계(4의 배수 제외) : %d\" % hap)"
      ],
      "metadata": {
        "colab": {
          "base_uri": "https://localhost:8080/"
        },
        "id": "W3LJHMSZeoJ-",
        "outputId": "1d5d2dd3-4fc0-4a24-815d-42d9c9600a5d"
      },
      "execution_count": 3,
      "outputs": [
        {
          "output_type": "stream",
          "name": "stdout",
          "text": [
            "1~100의 합계(4의 배수 제외) : 3750\n"
          ]
        }
      ]
    },
    {
      "cell_type": "code",
      "source": [
        "import random\n",
        "\n",
        "count = 0\n",
        "dice1, dice2, dice3 = 0, 0, 0\n",
        "\n",
        "while True :\n",
        "  count += 1\n",
        "  dice1 = random.randint(1,6)\n",
        "  dice2 = random.randint(1,6)\n",
        "  dice3 = random.randint(1,6)\n",
        "\n",
        "  if (dice1 == dice2) and (dice2 == dice3) :\n",
        "    break\n",
        "\n",
        "print(\"3개 주사위는 모두\", dice1, \"입니다.\")\n",
        "print(\"같은 숫자가 나오기까지\", count, \"번 던졌습니다.\")"
      ],
      "metadata": {
        "colab": {
          "base_uri": "https://localhost:8080/"
        },
        "id": "1Lj_IlCnf5cG",
        "outputId": "e0adb551-b019-4293-f59d-60a6532c016e"
      },
      "execution_count": 6,
      "outputs": [
        {
          "output_type": "stream",
          "name": "stdout",
          "text": [
            "3개 주사위는 모두 2 입니다.\n",
            "같은 숫자가 나오기까지 65 번 던졌습니다.\n"
          ]
        }
      ]
    },
    {
      "cell_type": "code",
      "source": [
        "import random\n",
        "\n",
        "com, user = 0, 0\n",
        "\n",
        "for i in range(1, 11, 1) :\n",
        "  com = random.randint(1, 5)\n",
        "  print(\"게임\", i, \"회:\", end='')\n",
        "  user = int(input(\"컴퓨터가 생각한 숫자는 ? \"))\n",
        "\n",
        "  if com == user :\n",
        "    print(\"맞혔네요. 축하합니다 !!\")\n",
        "    break\n",
        "  else :\n",
        "    print(\"아까워요. \", com, \"였는데요. 다시 생각해보세요 ㅠ\")\n",
        "    continue\n",
        "  print(\"게임을 마칩니다.3\")"
      ],
      "metadata": {
        "colab": {
          "base_uri": "https://localhost:8080/"
        },
        "id": "aFOsH_jDj8s9",
        "outputId": "8f7b227d-73b6-493e-992b-9a55e0188b04"
      },
      "execution_count": 34,
      "outputs": [
        {
          "output_type": "stream",
          "name": "stdout",
          "text": [
            "게임 1 회:컴퓨터가 생각한 숫자는 ? 3\n",
            "아까워요.  5 였는데요. 다시 생각해보세요 ㅠ\n",
            "게임 2 회:컴퓨터가 생각한 숫자는 ? 5\n",
            "아까워요.  4 였는데요. 다시 생각해보세요 ㅠ\n",
            "게임 3 회:컴퓨터가 생각한 숫자는 ? 3\n",
            "아까워요.  1 였는데요. 다시 생각해보세요 ㅠ\n",
            "게임 4 회:컴퓨터가 생각한 숫자는 ? 3\n",
            "아까워요.  1 였는데요. 다시 생각해보세요 ㅠ\n",
            "게임 5 회:컴퓨터가 생각한 숫자는 ? 3\n",
            "아까워요.  1 였는데요. 다시 생각해보세요 ㅠ\n",
            "게임 6 회:컴퓨터가 생각한 숫자는 ? 3\n",
            "아까워요.  4 였는데요. 다시 생각해보세요 ㅠ\n",
            "게임 7 회:컴퓨터가 생각한 숫자는 ? 3\n",
            "아까워요.  2 였는데요. 다시 생각해보세요 ㅠ\n",
            "게임 8 회:컴퓨터가 생각한 숫자는 ? 3\n",
            "맞혔네요. 축하합니다 !!\n"
          ]
        }
      ]
    }
  ]
}